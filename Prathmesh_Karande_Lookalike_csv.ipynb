{
  "nbformat": 4,
  "nbformat_minor": 0,
  "metadata": {
    "colab": {
      "provenance": []
    },
    "kernelspec": {
      "name": "python3",
      "display_name": "Python 3"
    },
    "language_info": {
      "name": "python"
    }
  },
  "cells": [
    {
      "cell_type": "code",
      "source": [
        "import pandas as pd\n",
        "from sklearn.preprocessing import StandardScaler\n",
        "from sklearn.metrics.pairwise import cosine_similarity"
      ],
      "metadata": {
        "id": "2ICv2kN0nREV"
      },
      "execution_count": 14,
      "outputs": []
    },
    {
      "cell_type": "markdown",
      "source": [
        "**# Load datasets**"
      ],
      "metadata": {
        "id": "TNoyaEK5nobE"
      }
    },
    {
      "cell_type": "code",
      "source": [
        "customers = pd.read_csv('/Customers.csv')\n",
        "products = pd.read_csv('/Products.csv')\n",
        "transactions = pd.read_csv('/Transactions.csv')"
      ],
      "metadata": {
        "id": "auZILUutnvdF"
      },
      "execution_count": 15,
      "outputs": []
    },
    {
      "cell_type": "markdown",
      "source": [
        "**# Merge datasets**"
      ],
      "metadata": {
        "id": "w3hzD-_aoYn5"
      }
    },
    {
      "cell_type": "code",
      "source": [
        "merged_data = transactions.merge(customers, on='CustomerID').merge(products, on='ProductID')"
      ],
      "metadata": {
        "id": "CaqodDOboc-M"
      },
      "execution_count": 16,
      "outputs": []
    },
    {
      "cell_type": "markdown",
      "source": [
        "**# Feature engineering**"
      ],
      "metadata": {
        "id": "SLR78-yeoisy"
      }
    },
    {
      "cell_type": "code",
      "source": [
        "customer_profiles = merged_data.groupby('CustomerID').agg({\n",
        "    'TotalValue': 'sum',\n",
        "    'Quantity': 'sum',\n",
        "    'ProductID': lambda x: x.mode()[0],  # Most purchased product\n",
        "    'Region': 'first'  # Region of the customer\n",
        "}).reset_index()"
      ],
      "metadata": {
        "id": "FFqUW5muonfE"
      },
      "execution_count": 17,
      "outputs": []
    },
    {
      "cell_type": "markdown",
      "source": [
        "**# Encode categorical variables**"
      ],
      "metadata": {
        "id": "bhLbLmm0otEk"
      }
    },
    {
      "cell_type": "code",
      "source": [
        "customer_profiles_encoded = pd.get_dummies(customer_profiles, columns=['Region', 'ProductID'])"
      ],
      "metadata": {
        "id": "fifVeov8oxa3"
      },
      "execution_count": 18,
      "outputs": []
    },
    {
      "cell_type": "markdown",
      "source": [
        "**# Scale numerical data**"
      ],
      "metadata": {
        "id": "J7Y-dlYTo1xT"
      }
    },
    {
      "cell_type": "code",
      "source": [
        "scaler = StandardScaler()\n",
        "customer_profiles_scaled = scaler.fit_transform(customer_profiles_encoded.iloc[:, 1:])"
      ],
      "metadata": {
        "id": "Lgp2drP3o5_g"
      },
      "execution_count": 19,
      "outputs": []
    },
    {
      "cell_type": "markdown",
      "source": [
        "**# Compute similarity matrix**"
      ],
      "metadata": {
        "id": "iJtM7kmfpARX"
      }
    },
    {
      "cell_type": "code",
      "source": [
        "similarities = cosine_similarity(customer_profiles_scaled)"
      ],
      "metadata": {
        "id": "N1_JqtK1pFsU"
      },
      "execution_count": 20,
      "outputs": []
    },
    {
      "cell_type": "markdown",
      "source": [
        "**# Generate lookalike recommendations for first 20 customers**"
      ],
      "metadata": {
        "id": "Usl7HQTgpK5B"
      }
    },
    {
      "cell_type": "code",
      "source": [
        "lookalike_results = {}\n",
        "for i, customer_id in enumerate(customer_profiles['CustomerID'][:20]):\n",
        "    similar_customers = sorted(list(enumerate(similarities[i])), key=lambda x: -x[1])[1:4]  # Top 3 excluding itself\n",
        "    lookalike_results[customer_id] = [(customer_profiles['CustomerID'][j], score) for j, score in similar_customers]"
      ],
      "metadata": {
        "id": "ZWIyjfrjpPYQ"
      },
      "execution_count": 21,
      "outputs": []
    },
    {
      "cell_type": "markdown",
      "source": [
        "**# Save lookalike results to CSV**"
      ],
      "metadata": {
        "id": "5NTI9yvIpWRT"
      }
    },
    {
      "cell_type": "code",
      "source": [
        "import csv\n",
        "with open('FirstName_LastName_Lookalike.csv', 'w', newline='') as file:\n",
        "    writer = csv.writer(file)\n",
        "    writer.writerow(['cust_id', 'lookalikes'])\n",
        "    for cust_id, lookalikes in lookalike_results.items():\n",
        "        writer.writerow([cust_id, lookalikes])"
      ],
      "metadata": {
        "id": "48gqWoXspayL"
      },
      "execution_count": 22,
      "outputs": []
    },
    {
      "cell_type": "code",
      "source": [
        "\n",
        "print(\"Lookalike model results saved to 'FirstName_LastName_Lookalike.csv'\")"
      ],
      "metadata": {
        "colab": {
          "base_uri": "https://localhost:8080/"
        },
        "id": "dnnAwZ2rpkrs",
        "outputId": "45882fd0-38b4-4ec7-de98-00cee5e81d4d"
      },
      "execution_count": 23,
      "outputs": [
        {
          "output_type": "stream",
          "name": "stdout",
          "text": [
            "Lookalike model results saved to 'FirstName_LastName_Lookalike.csv'\n"
          ]
        }
      ]
    }
  ]
}